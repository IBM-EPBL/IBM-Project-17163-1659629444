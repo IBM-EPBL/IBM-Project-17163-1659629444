{
  "nbformat": 4,
  "nbformat_minor": 0,
  "metadata": {
    "colab": {
      "provenance": []
    },
    "kernelspec": {
      "name": "python3",
      "display_name": "Python 3"
    },
    "language_info": {
      "name": "python"
    }
  },
  "cells": [
    {
      "cell_type": "markdown",
      "metadata": {
        "id": "uzgD06QD8Q5H"
      },
      "source": [
        "## MODEL BUILDING"
      ]
    },
    {
      "cell_type": "code",
      "execution_count": null,
      "metadata": {
        "id": "0wHB-GQLftU7"
      },
      "outputs": [],
      "source": [
        "acc = {}"
      ]
    },
    {
      "cell_type": "code",
      "execution_count": null,
      "metadata": {
        "id": "pNhI_Lt_8VQO",
        "colab": {
          "base_uri": "https://localhost:8080/",
          "height": 474
        },
        "outputId": "50364d81-e7b4-4542-f45c-b460934c7ab8"
      },
      "outputs": [
        {
          "output_type": "stream",
          "name": "stdout",
          "text": [
            "Confusion Matrix\n"
          ]
        },
        {
          "output_type": "display_data",
          "data": {
            "text/plain": [
              "<Figure size 432x288 with 2 Axes>"
            ],
            "image/png": "[encoded data removed]"
          },
          "metadata": {
            "needs_background": "light"
          }
        },
        {
          "output_type": "stream",
          "name": "stdout",
          "text": [
            "Classification Report\n",
            "              precision    recall  f1-score   support\n",
            "\n",
            "           0       0.83      0.84      0.83       105\n",
            "           1       0.85      0.85      0.85       118\n",
            "\n",
            "    accuracy                           0.84       223\n",
            "   macro avg       0.84      0.84      0.84       223\n",
            "weighted avg       0.84      0.84      0.84       223\n",
            "\n"
          ]
        }
      ],
      "source": [
        "def Decision_Tree(X_train, X_test, y_train, y_test):\n",
        "  dt = DecisionTreeClassifier()\n",
        "  dt.fit(X_train, y_train)\n",
        "\n",
        "  #predicting the outcome\n",
        "  y_pred = dt.predict(X_test)\n",
        "  print(\"Confusion Matrix\")\n",
        "  cm = confusion_matrix(y_test, y_pred)\n",
        "  cm_display = ConfusionMatrixDisplay(confusion_matrix = cm, display_labels = [False, True])\n",
        "  cm_display.plot()\n",
        "  plt.show()\n",
        "  print(\"Classification Report\")\n",
        "  cr = classification_report(y_test, y_pred)\n",
        "  print(cr)\n",
        "  acc['Decision Tree Classifier'] = accuracy_score(y_test,y_pred)\n",
        "Decision_Tree(X_train, X_test, y_train, y_test)"
      ]
    },
    {
      "cell_type": "code",
      "execution_count": null,
      "metadata": {
        "id": "H9OuoAqYb5UF",
        "colab": {
          "base_uri": "https://localhost:8080/",
          "height": 470
        },
        "outputId": "8899c168-355e-42f8-f0be-a3581b006009"
      },
      "outputs": [
        {
          "output_type": "stream",
          "name": "stdout",
          "text": [
            "Confusion Matrix\n"
          ]
        },
        {
          "output_type": "display_data",
          "data": {
            "text/plain": [
              "<Figure size 432x288 with 2 Axes>"
            ],
            "image/png": "[encoded data removed]"
          },
          "metadata": {
            "needs_background": "light"
          }
        },
        {
          "output_type": "stream",
          "name": "stdout",
          "text": [
            "Classification Report\n",
            "              precision    recall  f1-score   support\n",
            "\n",
            "           0       0.89      0.81      0.85       105\n",
            "           1       0.84      0.91      0.87       118\n",
            "\n",
            "    accuracy                           0.86       223\n",
            "   macro avg       0.86      0.86      0.86       223\n",
            "weighted avg       0.86      0.86      0.86       223\n",
            "\n"
          ]
        }
      ],
      "source": [
        "def Random_Forest(X_train, X_test, y_train, y_test):\n",
        "  rf = RandomForestClassifier()\n",
        "  rf.fit(X_train, y_train)\n",
        "\n",
        "  #predicting the outcome\n",
        "  y_pred = rf.predict(X_test)\n",
        "  print(\"Confusion Matrix\")\n",
        "  cm = confusion_matrix(y_test, y_pred)\n",
        "  cm_display = ConfusionMatrixDisplay(confusion_matrix = cm, display_labels = [False, True])\n",
        "  cm_display.plot()\n",
        "  plt.show()\n",
        "  print(\"Classification Report\")\n",
        "  cr = classification_report(y_test, y_pred)\n",
        "  print(cr)\n",
        "  acc['Random Forest Classifier'] = accuracy_score(y_test,y_pred)\n",
        "Random_Forest(X_train, X_test, y_train, y_test)"
      ]
    },
    {
      "cell_type": "code",
      "execution_count": null,
      "metadata": {
        "id": "jFyv2afLc9iV",
        "colab": {
          "base_uri": "https://localhost:8080/",
          "height": 470
        },
        "outputId": "bc2217ae-584a-462a-9865-d4f539f797f2"
      },
      "outputs": [
        {
          "output_type": "stream",
          "name": "stdout",
          "text": [
            "Confusion Matrix\n"
          ]
        },
        {
          "output_type": "display_data",
          "data": {
            "text/plain": [
              "<Figure size 432x288 with 2 Axes>"
            ],
            "image/png": "[encoded data removed]"
          },
          "metadata": {
            "needs_background": "light"
          }
        },
        {
          "output_type": "stream",
          "name": "stdout",
          "text": [
            "Classification Report\n",
            "              precision    recall  f1-score   support\n",
            "\n",
            "           0       0.82      0.70      0.76       105\n",
            "           1       0.77      0.86      0.81       118\n",
            "\n",
            "    accuracy                           0.79       223\n",
            "   macro avg       0.79      0.78      0.79       223\n",
            "weighted avg       0.79      0.79      0.79       223\n",
            "\n"
          ]
        }
      ],
      "source": [
        "def KNN(X_train, X_test, y_train, y_test):\n",
        "  knn = KNeighborsClassifier()\n",
        "  knn.fit(X_train, y_train)\n",
        "\n",
        "  #predicting the outcome\n",
        "  y_pred = knn.predict(X_test)\n",
        "  print(\"Confusion Matrix\")\n",
        "  cm = confusion_matrix(y_test, y_pred)\n",
        "  cm_display = ConfusionMatrixDisplay(confusion_matrix = cm, display_labels = [False, True])\n",
        "  cm_display.plot()\n",
        "  plt.show()\n",
        "  print(\"Classification Report\")\n",
        "  cr = classification_report(y_test, y_pred)\n",
        "  print(cr)\n",
        "  acc['KNN'] = accuracy_score(y_test,y_pred)\n",
        "KNN(X_train, X_test, y_train, y_test)"
      ]
    },
    {
      "cell_type": "code",
      "execution_count": null,
      "metadata": {
        "colab": {
          "base_uri": "https://localhost:8080/",
          "height": 1000
        },
        "id": "iLhWcS3idEwY",
        "outputId": "a65a6f5f-615e-4d07-cc48-50d6f3f7a881"
      },
      "outputs": [
        {
          "output_type": "stream",
          "name": "stdout",
          "text": [
            "           0         1         2         3         4         5          6   \\\n",
            "396  0.564233  0.839372  1.123104 -0.479070 -0.340151 -0.380292   0.133439   \n",
            "302  0.564233 -1.191367 -0.753369  2.087377 -0.340151  0.141058  -0.566720   \n",
            "673  0.564233 -1.191367 -0.753369 -0.479070  2.939874  0.746624  -0.566720   \n",
            "541  0.564233  0.839372 -0.753369 -0.479070 -0.340151 -0.124685   0.006274   \n",
            "377  0.564233  0.839372 -0.753369 -0.479070 -0.340151 -0.250072   0.394129   \n",
            "..        ...       ...       ...       ...       ...       ...        ...   \n",
            "482  0.564233 -1.191367 -0.753369 -0.479070 -0.340151 -0.542016  12.088876   \n",
            "380  0.564233  0.839372 -0.753369 -0.479070  2.939874 -0.503495   0.960390   \n",
            "9    0.564233  0.839372  1.123104 -0.479070 -0.340151 -0.329296  -0.304908   \n",
            "22   0.564233  0.839372 -0.753369 -0.479070 -0.340151 -0.391833   0.275939   \n",
            "290  0.564233  0.839372 -0.753369 -0.479070 -0.340151  0.588176  -0.566720   \n",
            "\n",
            "           7         8         9         10  \n",
            "396 -0.151682  0.303482 -1.737198  0.076256  \n",
            "302 -0.139565  0.303482  0.575640 -1.210567  \n",
            "673  0.030067  0.303482  0.575640 -1.210567  \n",
            "541 -0.175915  0.303482 -1.737198 -1.210567  \n",
            "377  0.345099  0.303482  0.575640  1.363080  \n",
            "..        ...       ...       ...       ...  \n",
            "482 -0.660579  0.303482  0.575640  1.363080  \n",
            "380  0.187583  0.303482  0.575640  0.076256  \n",
            "9   -0.902911  0.303482  0.575640  1.363080  \n",
            "22  -0.272848  0.303482  0.575640  0.076256  \n",
            "290  1.011512  0.303482  0.575640  0.076256  \n",
            "\n",
            "[223 rows x 11 columns]\n",
            "[0 1 0 0 1 1 0 0 0 1 0 1 1 1 1 0 0 0 1 1 1 0 0 1 1 1 0 0 0 0 0 1 1 0 0 1 1\n",
            " 1 0 1 0 1 0 0 0 1 1 1 0 0 1 1 1 0 0 1 1 0 0 0 1 1 1 1 1 1 1 1 0 1 1 1 1 0\n",
            " 1 1 0 1 1 1 1 1 0 1 0 1 1 1 1 0 1 1 0 1 0 0 1 1 0 1 0 0 0 1 0 1 0 0 0 0 1\n",
            " 1 1 1 1 1 1 1 0 0 1 1 0 1 1 0 0 0 0 0 1 1 1 0 0 0 1 0 0 1 1 1 1 1 0 0 0 0\n",
            " 0 1 1 0 0 0 1 1 1 0 1 0 0 0 0 1 1 1 1 0 1 0 1 1 1 1 0 0 1 1 1 0 1 1 0 1 1\n",
            " 1 1 1 0 1 1 1 0 1 1 0 0 1 0 1 1 1 1 1 1 1 1 1 0 1 1 1 0 1 1 0 1 1 0 1 1 1\n",
            " 1]\n",
            "Confusion Matrix\n"
          ]
        },
        {
          "output_type": "display_data",
          "data": {
            "text/plain": [
              "<Figure size 432x288 with 2 Axes>"
            ],
            "image/png": "[encoded data removed]"
          },
          "metadata": {
            "needs_background": "light"
          }
        },
        {
          "output_type": "stream",
          "name": "stdout",
          "text": [
            "Classification Report\n",
            "              precision    recall  f1-score   support\n",
            "\n",
            "           0       0.90      0.77      0.83       105\n",
            "           1       0.82      0.92      0.87       118\n",
            "\n",
            "    accuracy                           0.85       223\n",
            "   macro avg       0.86      0.85      0.85       223\n",
            "weighted avg       0.86      0.85      0.85       223\n",
            "\n"
          ]
        }
      ],
      "source": [
        "def XGboost(X_train, X_test, y_train, y_test):\n",
        "  xg = GradientBoostingClassifier()\n",
        "  xg.fit(X_train, y_train)\n",
        "  #predicting the outcome\n",
        "  y_pred = xg.predict(X_test)\n",
        "  print(X_test)\n",
        "  print(y_pred)\n",
        "  print(\"Confusion Matrix\")\n",
        "  cm = confusion_matrix(y_test, y_pred)\n",
        "  cm_display = ConfusionMatrixDisplay(confusion_matrix = cm, display_labels = [False, True])\n",
        "  cm_display.plot()\n",
        "  plt.show()\n",
        "  print(\"Classification Report\")\n",
        "  cr = classification_report(y_test, y_pred)\n",
        "  print(cr)\n",
        "  acc['Gradient Boost'] = accuracy_score(y_test,y_pred)\n",
        "XGboost(X_train, X_test, y_train, y_test)"
      ]
    },
    {
      "cell_type": "code",
      "execution_count": null,
      "metadata": {
        "colab": {
          "base_uri": "https://localhost:8080/"
        },
        "id": "4998aoksp1RP",
        "outputId": "9606431d-0b2d-48d6-afc5-b0a7a106c2b4"
      },
      "outputs": [
        {
          "output_type": "stream",
          "name": "stdout",
          "text": [
            "[array(['Male', 'No', '0', 'Graduate', 'No', '58490', '15008', '120',\n",
            "       '360', '1', 'Urban'], dtype='<U21')]\n",
            "  Gender Married Dependents Education Self_Employed ApplicantIncome  \\\n",
            "0   Male      No          0  Graduate            No           58490   \n",
            "\n",
            "  CoapplicantIncome LoanAmount Loan_Amount_Term Credit_History Property_Area  \n",
            "0             15008        120              360              1         Urban  \n",
            "[0]\n"
          ]
        }
      ],
      "source": [
        "xg = GradientBoostingClassifier()\n",
        "xg.fit(X_train, y_train)\n",
        "\n",
        "# input_feature = [1,1,1,1,1,5849,1508,120,360,1,1]\n",
        "input_feature = ['Male', 'No', 0, 'Graduate', 'No', 58490, 15008, 120, 360, 1, 'Urban']\n",
        "input_feature = [np.array(input_feature)]\n",
        "print(input_feature)\n",
        "names = ['Gender', 'Married', 'Dependents', 'Education', 'Self_Employed','ApplicantIncome','CoapplicantIncome','LoanAmount','Loan_Amount_Term','Credit_History','Property_Area']\n",
        "data = pd.DataFrame(input_feature, columns=names)\n",
        "print(data)\n",
        "new = data.copy()\n",
        "label_encoder = preprocessing.LabelEncoder()\n",
        "label_encoding_columns = ['Gender', 'Married', 'Dependents', 'Education', 'Self_Employed', 'Property_Area']\n",
        "for col in label_encoding_columns:\n",
        "  new[col]= label_encoder.fit_transform(new[col])\n",
        "preed = xg.predict(new)\n",
        "print(preed)"
      ]
    },
    {
      "cell_type": "code",
      "execution_count": null,
      "metadata": {
        "colab": {
          "base_uri": "https://localhost:8080/"
        },
        "id": "wWhRy4AMgH8D",
        "outputId": "e55e6a09-79b7-4bcc-82c2-1068fb9a2d4d"
      },
      "outputs": [
        {
          "output_type": "stream",
          "name": "stdout",
          "text": [
            "{'Decision Tree Classifier': 0.8430493273542601, 'Random Forest Classifier': 0.8609865470852018, 'KNN': 0.7892376681614349, 'Gradient Boost': 0.852017937219731}\n"
          ]
        }
      ],
      "source": [
        "print(acc)"
      ]
    }
  ]
}